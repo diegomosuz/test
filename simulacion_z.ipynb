{
  "nbformat": 4,
  "nbformat_minor": 0,
  "metadata": {
    "colab": {
      "provenance": []
    },
    "kernelspec": {
      "name": "python3",
      "display_name": "Python 3"
    },
    "language_info": {
      "name": "python"
    }
  },
  "cells": [
    {
      "cell_type": "code",
      "execution_count": null,
      "metadata": {
        "id": "t9XfwI-05Vor"
      },
      "outputs": [],
      "source": [
        "# IQ de la muestra (n = 16) es de 105\n",
        "# IQ de la población es de 100 con std = 15\n",
        "\n",
        "# HIPOTESIS:\n",
        "  # Ho: Los estudiantes de ciencias de dato NO tienen un IQ mayor que el prom poblacional\n",
        "  # H1: Los estudiantes de ciencias de dato tienen un IQ mayor que el prom poblacional\n",
        "\n",
        "import numpy as np\n",
        "import matplotlib.pyplot as plt\n",
        "import pandas as pd"
      ]
    },
    {
      "cell_type": "code",
      "source": [
        "mu_observado = 105 # Mu observado, media muestral\n",
        "n = 16 # tamaño de la muestra\n",
        "\n",
        "mu_poblacion = 100 # Mu poblacional\n",
        "std_poblacion = 15 # desviación std de la población\n",
        "\n",
        "N = 100000"
      ],
      "metadata": {
        "id": "jFMXiheP6VEJ"
      },
      "execution_count": null,
      "outputs": []
    },
    {
      "cell_type": "code",
      "source": [
        "medias = np.zeros(N)\n",
        "for i in range(N):\n",
        "  muestras = np.random.normal(loc = mu_poblacion, scale = std_poblacion, size = n)\n",
        "  medias[i] = muestras.mean()"
      ],
      "metadata": {
        "id": "wm3fdBLM67nf"
      },
      "execution_count": null,
      "outputs": []
    },
    {
      "cell_type": "code",
      "source": [
        "medias"
      ],
      "metadata": {
        "colab": {
          "base_uri": "https://localhost:8080/"
        },
        "id": "bSwMb6Gn7myU",
        "outputId": "b4bc3c5a-e7f3-4f3b-823f-370b584f70c4"
      },
      "execution_count": null,
      "outputs": [
        {
          "output_type": "execute_result",
          "data": {
            "text/plain": [
              "array([101.73149455,  99.65984134,  98.97474518, ..., 105.58455257,\n",
              "        99.44055099,  98.69173901])"
            ]
          },
          "metadata": {},
          "execution_count": 7
        }
      ]
    },
    {
      "cell_type": "code",
      "source": [
        "plt.hist(medias)\n",
        "plt.axvline(mu_poblacion, c = 'r', ls = '--', label = 'Media Población')\n",
        "plt.axvline(mu_observado, c = 'g', ls = '--', label = 'Media Muestral Data Science')\n",
        "plt.legend()\n",
        "plt.show()"
      ],
      "metadata": {
        "colab": {
          "base_uri": "https://localhost:8080/",
          "height": 265
        },
        "id": "f3c4xlKw7w-2",
        "outputId": "e98779e3-9082-418f-aaa8-d1651b92beb0"
      },
      "execution_count": null,
      "outputs": [
        {
          "output_type": "display_data",
          "data": {
            "text/plain": [
              "<Figure size 432x288 with 1 Axes>"
            ],
            "image/png": "[encoded data removed]"
          },
          "metadata": {
            "needs_background": "light"
          }
        }
      ]
    },
    {
      "cell_type": "code",
      "source": [
        "eventos_mas_extremos = medias[medias >= mu_observado]"
      ],
      "metadata": {
        "id": "jT9e2Gx68SlR"
      },
      "execution_count": null,
      "outputs": []
    },
    {
      "cell_type": "code",
      "source": [
        "eventos_mas_extremos"
      ],
      "metadata": {
        "colab": {
          "base_uri": "https://localhost:8080/"
        },
        "id": "oNbSxD0x9Pw0",
        "outputId": "3fcb6282-35a4-4ad2-8ba3-1de37f9aa519"
      },
      "execution_count": null,
      "outputs": [
        {
          "output_type": "execute_result",
          "data": {
            "text/plain": [
              "array([105.31148619, 106.950445  , 106.87532506, ..., 107.6620841 ,\n",
              "       105.14612392, 105.58455257])"
            ]
          },
          "metadata": {},
          "execution_count": 12
        }
      ]
    },
    {
      "cell_type": "code",
      "source": [
        "eventos_mas_extremos.size"
      ],
      "metadata": {
        "colab": {
          "base_uri": "https://localhost:8080/"
        },
        "id": "C3uNdUGV9RwL",
        "outputId": "c2371212-2328-42f4-f648-e0a5f9bc4867"
      },
      "execution_count": null,
      "outputs": [
        {
          "output_type": "execute_result",
          "data": {
            "text/plain": [
              "9130"
            ]
          },
          "metadata": {},
          "execution_count": 14
        }
      ]
    },
    {
      "cell_type": "code",
      "source": [
        "p_valor = eventos_mas_extremos.size / N"
      ],
      "metadata": {
        "id": "HXNqg22P9YbK"
      },
      "execution_count": null,
      "outputs": []
    },
    {
      "cell_type": "code",
      "source": [
        "p_valor"
      ],
      "metadata": {
        "colab": {
          "base_uri": "https://localhost:8080/"
        },
        "id": "kfqZidM39zGZ",
        "outputId": "264a54a8-a689-489f-92fa-7e94b5542926"
      },
      "execution_count": null,
      "outputs": [
        {
          "output_type": "execute_result",
          "data": {
            "text/plain": [
              "0.0913"
            ]
          },
          "metadata": {},
          "execution_count": 16
        }
      ]
    },
    {
      "cell_type": "code",
      "source": [
        "nivel_significancia = 0.05"
      ],
      "metadata": {
        "id": "HlSoaf9090jr"
      },
      "execution_count": null,
      "outputs": []
    },
    {
      "cell_type": "code",
      "source": [
        "# Método estadístico analítico\n",
        "z = (mu_observado - mu_poblacion)/(std_poblacion/n**(0.5))"
      ],
      "metadata": {
        "id": "Hb5eNPNe-fzp"
      },
      "execution_count": null,
      "outputs": []
    },
    {
      "cell_type": "code",
      "source": [
        "z"
      ],
      "metadata": {
        "colab": {
          "base_uri": "https://localhost:8080/"
        },
        "id": "yWStMTA7-i8J",
        "outputId": "da7894aa-78ed-4a82-a57a-11751f6d0e8c"
      },
      "execution_count": null,
      "outputs": [
        {
          "output_type": "execute_result",
          "data": {
            "text/plain": [
              "1.3333333333333333"
            ]
          },
          "metadata": {},
          "execution_count": 19
        }
      ]
    },
    {
      "cell_type": "code",
      "source": [
        "tabla = 0.9082"
      ],
      "metadata": {
        "id": "2sJI9yNs-4nB"
      },
      "execution_count": null,
      "outputs": []
    },
    {
      "cell_type": "code",
      "source": [
        "p_analitico = 1 - 0.9082"
      ],
      "metadata": {
        "id": "Goy_NcH-_MHY"
      },
      "execution_count": null,
      "outputs": []
    },
    {
      "cell_type": "code",
      "source": [
        "p_analitico"
      ],
      "metadata": {
        "colab": {
          "base_uri": "https://localhost:8080/"
        },
        "id": "8CZ-UleO_QJe",
        "outputId": "787f45d9-47f5-4f66-a579-c1ffaaa9b80b"
      },
      "execution_count": null,
      "outputs": [
        {
          "output_type": "execute_result",
          "data": {
            "text/plain": [
              "0.09179999999999999"
            ]
          },
          "metadata": {},
          "execution_count": 22
        }
      ]
    },
    {
      "cell_type": "markdown",
      "source": [
        "Intervalos de confianza"
      ],
      "metadata": {
        "id": "EilasnyJAOOz"
      }
    },
    {
      "cell_type": "code",
      "source": [
        "from google.colab import drive\n",
        "drive.mount('/content/drive')"
      ],
      "metadata": {
        "colab": {
          "base_uri": "https://localhost:8080/"
        },
        "id": "0RUwxfcW_Sd3",
        "outputId": "d4d165d6-0e50-47f6-d94f-713212b91f90"
      },
      "execution_count": null,
      "outputs": [
        {
          "output_type": "stream",
          "name": "stdout",
          "text": [
            "Mounted at /content/drive\n"
          ]
        }
      ]
    },
    {
      "cell_type": "code",
      "source": [
        "import pandas as pd"
      ],
      "metadata": {
        "id": "brNi3lbTAmg9"
      },
      "execution_count": null,
      "outputs": []
    },
    {
      "cell_type": "code",
      "source": [
        "datosNB = pd.read_csv('/content/drive/MyDrive/Publico/ds-online-76/nchs_birth_2011.csv', sep = ',')"
      ],
      "metadata": {
        "colab": {
          "base_uri": "https://localhost:8080/"
        },
        "id": "vjVoXnxDAvMx",
        "outputId": "ed3d609b-d8a0-454d-8ab6-f7bdc15bbdfe"
      },
      "execution_count": null,
      "outputs": [
        {
          "output_type": "stream",
          "name": "stderr",
          "text": [
            "/usr/local/lib/python3.7/dist-packages/IPython/core/interactiveshell.py:3326: DtypeWarning: Columns (27) have mixed types.Specify dtype option on import or set low_memory=False.\n",
            "  exec(code_obj, self.user_global_ns, self.user_ns)\n"
          ]
        }
      ]
    },
    {
      "cell_type": "code",
      "source": [
        "datosNB.head()"
      ],
      "metadata": {
        "colab": {
          "base_uri": "https://localhost:8080/",
          "height": 300
        },
        "id": "ROvwmPW5AyC8",
        "outputId": "3b6277ce-c67b-4670-e0ad-d5f2244cd67e"
      },
      "execution_count": null,
      "outputs": [
        {
          "output_type": "execute_result",
          "data": {
            "text/plain": [
              "  FILLER1 REVISION FILLER2  DOB_YY  DOB_MM FILLER3  DOB_WK OTERR FILLER4  \\\n",
              "0                A            2011       1               7    PR           \n",
              "1                A            2011       1               7    PR           \n",
              "2                A            2011       1               1    PR           \n",
              "3                A            2011       1               3    PR           \n",
              "4                A            2011       1               2    PR           \n",
              "\n",
              "   OCNTY  ...  F_UCA_SPINA  FILLER77  F_UCA_OMPHALO FILLER78  F_UCA_CLEFTLP  \\\n",
              "0    127  ...            1                        1                       1   \n",
              "1     25  ...            1                        1                       1   \n",
              "2    999  ...            1                        1                       1   \n",
              "3     25  ...            1                        1                       1   \n",
              "4    999  ...            1                        1                       1   \n",
              "\n",
              "  FILLER79 F_UCA_HERNIA FILLER80  F_UCA_DOWNS  FILLER81  \n",
              "0                     1                     1            \n",
              "1                     1                     1            \n",
              "2                     1                     1            \n",
              "3                     1                     1            \n",
              "4                     1                     1            \n",
              "\n",
              "[5 rows x 314 columns]"
            ],
            "text/html": [
              "\n",
              "  <div id=\"df-dd3139a3-2df4-419f-933a-11594e8b071e\">\n",
              "    <div class=\"colab-df-container\">\n",
              "      <div>\n",
              "<style scoped>\n",
              "    .dataframe tbody tr th:only-of-type {\n",
              "        vertical-align: middle;\n",
              "    }\n",
              "\n",
              "    .dataframe tbody tr th {\n",
              "        vertical-align: top;\n",
              "    }\n",
              "\n",
              "    .dataframe thead th {\n",
              "        text-align: right;\n",
              "    }\n",
              "</style>\n",
              "<table border=\"1\" class=\"dataframe\">\n",
              "  <thead>\n",
              "    <tr style=\"text-align: right;\">\n",
              "      <th></th>\n",
              "      <th>FILLER1</th>\n",
              "      <th>REVISION</th>\n",
              "      <th>FILLER2</th>\n",
              "      <th>DOB_YY</th>\n",
              "      <th>DOB_MM</th>\n",
              "      <th>FILLER3</th>\n",
              "      <th>DOB_WK</th>\n",
              "      <th>OTERR</th>\n",
              "      <th>FILLER4</th>\n",
              "      <th>OCNTY</th>\n",
              "      <th>...</th>\n",
              "      <th>F_UCA_SPINA</th>\n",
              "      <th>FILLER77</th>\n",
              "      <th>F_UCA_OMPHALO</th>\n",
              "      <th>FILLER78</th>\n",
              "      <th>F_UCA_CLEFTLP</th>\n",
              "      <th>FILLER79</th>\n",
              "      <th>F_UCA_HERNIA</th>\n",
              "      <th>FILLER80</th>\n",
              "      <th>F_UCA_DOWNS</th>\n",
              "      <th>FILLER81</th>\n",
              "    </tr>\n",
              "  </thead>\n",
              "  <tbody>\n",
              "    <tr>\n",
              "      <th>0</th>\n",
              "      <td></td>\n",
              "      <td>A</td>\n",
              "      <td></td>\n",
              "      <td>2011</td>\n",
              "      <td>1</td>\n",
              "      <td></td>\n",
              "      <td>7</td>\n",
              "      <td>PR</td>\n",
              "      <td></td>\n",
              "      <td>127</td>\n",
              "      <td>...</td>\n",
              "      <td>1</td>\n",
              "      <td></td>\n",
              "      <td>1</td>\n",
              "      <td></td>\n",
              "      <td>1</td>\n",
              "      <td></td>\n",
              "      <td>1</td>\n",
              "      <td></td>\n",
              "      <td>1</td>\n",
              "      <td></td>\n",
              "    </tr>\n",
              "    <tr>\n",
              "      <th>1</th>\n",
              "      <td></td>\n",
              "      <td>A</td>\n",
              "      <td></td>\n",
              "      <td>2011</td>\n",
              "      <td>1</td>\n",
              "      <td></td>\n",
              "      <td>7</td>\n",
              "      <td>PR</td>\n",
              "      <td></td>\n",
              "      <td>25</td>\n",
              "      <td>...</td>\n",
              "      <td>1</td>\n",
              "      <td></td>\n",
              "      <td>1</td>\n",
              "      <td></td>\n",
              "      <td>1</td>\n",
              "      <td></td>\n",
              "      <td>1</td>\n",
              "      <td></td>\n",
              "      <td>1</td>\n",
              "      <td></td>\n",
              "    </tr>\n",
              "    <tr>\n",
              "      <th>2</th>\n",
              "      <td></td>\n",
              "      <td>A</td>\n",
              "      <td></td>\n",
              "      <td>2011</td>\n",
              "      <td>1</td>\n",
              "      <td></td>\n",
              "      <td>1</td>\n",
              "      <td>PR</td>\n",
              "      <td></td>\n",
              "      <td>999</td>\n",
              "      <td>...</td>\n",
              "      <td>1</td>\n",
              "      <td></td>\n",
              "      <td>1</td>\n",
              "      <td></td>\n",
              "      <td>1</td>\n",
              "      <td></td>\n",
              "      <td>1</td>\n",
              "      <td></td>\n",
              "      <td>1</td>\n",
              "      <td></td>\n",
              "    </tr>\n",
              "    <tr>\n",
              "      <th>3</th>\n",
              "      <td></td>\n",
              "      <td>A</td>\n",
              "      <td></td>\n",
              "      <td>2011</td>\n",
              "      <td>1</td>\n",
              "      <td></td>\n",
              "      <td>3</td>\n",
              "      <td>PR</td>\n",
              "      <td></td>\n",
              "      <td>25</td>\n",
              "      <td>...</td>\n",
              "      <td>1</td>\n",
              "      <td></td>\n",
              "      <td>1</td>\n",
              "      <td></td>\n",
              "      <td>1</td>\n",
              "      <td></td>\n",
              "      <td>1</td>\n",
              "      <td></td>\n",
              "      <td>1</td>\n",
              "      <td></td>\n",
              "    </tr>\n",
              "    <tr>\n",
              "      <th>4</th>\n",
              "      <td></td>\n",
              "      <td>A</td>\n",
              "      <td></td>\n",
              "      <td>2011</td>\n",
              "      <td>1</td>\n",
              "      <td></td>\n",
              "      <td>2</td>\n",
              "      <td>PR</td>\n",
              "      <td></td>\n",
              "      <td>999</td>\n",
              "      <td>...</td>\n",
              "      <td>1</td>\n",
              "      <td></td>\n",
              "      <td>1</td>\n",
              "      <td></td>\n",
              "      <td>1</td>\n",
              "      <td></td>\n",
              "      <td>1</td>\n",
              "      <td></td>\n",
              "      <td>1</td>\n",
              "      <td></td>\n",
              "    </tr>\n",
              "  </tbody>\n",
              "</table>\n",
              "<p>5 rows × 314 columns</p>\n",
              "</div>\n",
              "      <button class=\"colab-df-convert\" onclick=\"convertToInteractive('df-dd3139a3-2df4-419f-933a-11594e8b071e')\"\n",
              "              title=\"Convert this dataframe to an interactive table.\"\n",
              "              style=\"display:none;\">\n",
              "        \n",
              "  <svg xmlns=\"http://www.w3.org/2000/svg\" height=\"24px\"viewBox=\"0 0 24 24\"\n",
              "       width=\"24px\">\n",
              "    <path d=\"M0 0h24v24H0V0z\" fill=\"none\"/>\n",
              "    <path d=\"M18.56 5.44l.94 2.06.94-2.06 2.06-.94-2.06-.94-.94-2.06-.94 2.06-2.06.94zm-11 1L8.5 8.5l.94-2.06 2.06-.94-2.06-.94L8.5 2.5l-.94 2.06-2.06.94zm10 10l.94 2.06.94-2.06 2.06-.94-2.06-.94-.94-2.06-.94 2.06-2.06.94z\"/><path d=\"M17.41 7.96l-1.37-1.37c-.4-.4-.92-.59-1.43-.59-.52 0-1.04.2-1.43.59L10.3 9.45l-7.72 7.72c-.78.78-.78 2.05 0 2.83L4 21.41c.39.39.9.59 1.41.59.51 0 1.02-.2 1.41-.59l7.78-7.78 2.81-2.81c.8-.78.8-2.07 0-2.86zM5.41 20L4 18.59l7.72-7.72 1.47 1.35L5.41 20z\"/>\n",
              "  </svg>\n",
              "      </button>\n",
              "      \n",
              "  <style>\n",
              "    .colab-df-container {\n",
              "      display:flex;\n",
              "      flex-wrap:wrap;\n",
              "      gap: 12px;\n",
              "    }\n",
              "\n",
              "    .colab-df-convert {\n",
              "      background-color: #E8F0FE;\n",
              "      border: none;\n",
              "      border-radius: 50%;\n",
              "      cursor: pointer;\n",
              "      display: none;\n",
              "      fill: #1967D2;\n",
              "      height: 32px;\n",
              "      padding: 0 0 0 0;\n",
              "      width: 32px;\n",
              "    }\n",
              "\n",
              "    .colab-df-convert:hover {\n",
              "      background-color: #E2EBFA;\n",
              "      box-shadow: 0px 1px 2px rgba(60, 64, 67, 0.3), 0px 1px 3px 1px rgba(60, 64, 67, 0.15);\n",
              "      fill: #174EA6;\n",
              "    }\n",
              "\n",
              "    [theme=dark] .colab-df-convert {\n",
              "      background-color: #3B4455;\n",
              "      fill: #D2E3FC;\n",
              "    }\n",
              "\n",
              "    [theme=dark] .colab-df-convert:hover {\n",
              "      background-color: #434B5C;\n",
              "      box-shadow: 0px 1px 3px 1px rgba(0, 0, 0, 0.15);\n",
              "      filter: drop-shadow(0px 1px 2px rgba(0, 0, 0, 0.3));\n",
              "      fill: #FFFFFF;\n",
              "    }\n",
              "  </style>\n",
              "\n",
              "      <script>\n",
              "        const buttonEl =\n",
              "          document.querySelector('#df-dd3139a3-2df4-419f-933a-11594e8b071e button.colab-df-convert');\n",
              "        buttonEl.style.display =\n",
              "          google.colab.kernel.accessAllowed ? 'block' : 'none';\n",
              "\n",
              "        async function convertToInteractive(key) {\n",
              "          const element = document.querySelector('#df-dd3139a3-2df4-419f-933a-11594e8b071e');\n",
              "          const dataTable =\n",
              "            await google.colab.kernel.invokeFunction('convertToInteractive',\n",
              "                                                     [key], {});\n",
              "          if (!dataTable) return;\n",
              "\n",
              "          const docLinkHtml = 'Like what you see? Visit the ' +\n",
              "            '<a target=\"_blank\" href=https://colab.research.google.com/notebooks/data_table.ipynb>data table notebook</a>'\n",
              "            + ' to learn more about interactive tables.';\n",
              "          element.innerHTML = '';\n",
              "          dataTable['output_type'] = 'display_data';\n",
              "          await google.colab.output.renderOutput(dataTable, element);\n",
              "          const docLink = document.createElement('div');\n",
              "          docLink.innerHTML = docLinkHtml;\n",
              "          element.appendChild(docLink);\n",
              "        }\n",
              "      </script>\n",
              "    </div>\n",
              "  </div>\n",
              "  "
            ]
          },
          "metadata": {},
          "execution_count": 26
        }
      ]
    },
    {
      "cell_type": "code",
      "source": [
        "columnas_interes = ['DOB_MM', 'DOB_WK', 'OCNTY', 'MAGER', 'MRCNTY', 'FAGECOMB', 'DWGT', 'DMETH_REC', 'APGAR5', 'SEX' , 'COMBGEST', 'DBWT']"
      ],
      "metadata": {
        "id": "rxS32TZ5A1nL"
      },
      "execution_count": null,
      "outputs": []
    },
    {
      "cell_type": "code",
      "source": [
        "datosNB = datosNB[columnas_interes]"
      ],
      "metadata": {
        "id": "N80jX3-dBFhd"
      },
      "execution_count": null,
      "outputs": []
    },
    {
      "cell_type": "code",
      "source": [
        "datosNB.head()"
      ],
      "metadata": {
        "colab": {
          "base_uri": "https://localhost:8080/",
          "height": 206
        },
        "id": "p0tRDXD3BSTW",
        "outputId": "51288c15-e871-47ac-a85f-95e9e533dda0"
      },
      "execution_count": null,
      "outputs": [
        {
          "output_type": "execute_result",
          "data": {
            "text/plain": [
              "   DOB_MM  DOB_WK  OCNTY  MAGER  MRCNTY  FAGECOMB  DWGT  DMETH_REC  APGAR5  \\\n",
              "0       1       7    127     24     999        25   160          1       9   \n",
              "1       1       7     25     19      25        21   143          1       9   \n",
              "2       1       1    999     25     999        45   172          1      10   \n",
              "3       1       3     25     38      25        32   192          2       9   \n",
              "4       1       2    999     23     999        25   194          1       9   \n",
              "\n",
              "  SEX  COMBGEST  DBWT  \n",
              "0   M        38  3090  \n",
              "1   F        39  3062  \n",
              "2   F        39  3062  \n",
              "3   F        39  3062  \n",
              "4   M        39  3941  "
            ],
            "text/html": [
              "\n",
              "  <div id=\"df-feb18bee-77a1-416f-9030-c13432afae4f\">\n",
              "    <div class=\"colab-df-container\">\n",
              "      <div>\n",
              "<style scoped>\n",
              "    .dataframe tbody tr th:only-of-type {\n",
              "        vertical-align: middle;\n",
              "    }\n",
              "\n",
              "    .dataframe tbody tr th {\n",
              "        vertical-align: top;\n",
              "    }\n",
              "\n",
              "    .dataframe thead th {\n",
              "        text-align: right;\n",
              "    }\n",
              "</style>\n",
              "<table border=\"1\" class=\"dataframe\">\n",
              "  <thead>\n",
              "    <tr style=\"text-align: right;\">\n",
              "      <th></th>\n",
              "      <th>DOB_MM</th>\n",
              "      <th>DOB_WK</th>\n",
              "      <th>OCNTY</th>\n",
              "      <th>MAGER</th>\n",
              "      <th>MRCNTY</th>\n",
              "      <th>FAGECOMB</th>\n",
              "      <th>DWGT</th>\n",
              "      <th>DMETH_REC</th>\n",
              "      <th>APGAR5</th>\n",
              "      <th>SEX</th>\n",
              "      <th>COMBGEST</th>\n",
              "      <th>DBWT</th>\n",
              "    </tr>\n",
              "  </thead>\n",
              "  <tbody>\n",
              "    <tr>\n",
              "      <th>0</th>\n",
              "      <td>1</td>\n",
              "      <td>7</td>\n",
              "      <td>127</td>\n",
              "      <td>24</td>\n",
              "      <td>999</td>\n",
              "      <td>25</td>\n",
              "      <td>160</td>\n",
              "      <td>1</td>\n",
              "      <td>9</td>\n",
              "      <td>M</td>\n",
              "      <td>38</td>\n",
              "      <td>3090</td>\n",
              "    </tr>\n",
              "    <tr>\n",
              "      <th>1</th>\n",
              "      <td>1</td>\n",
              "      <td>7</td>\n",
              "      <td>25</td>\n",
              "      <td>19</td>\n",
              "      <td>25</td>\n",
              "      <td>21</td>\n",
              "      <td>143</td>\n",
              "      <td>1</td>\n",
              "      <td>9</td>\n",
              "      <td>F</td>\n",
              "      <td>39</td>\n",
              "      <td>3062</td>\n",
              "    </tr>\n",
              "    <tr>\n",
              "      <th>2</th>\n",
              "      <td>1</td>\n",
              "      <td>1</td>\n",
              "      <td>999</td>\n",
              "      <td>25</td>\n",
              "      <td>999</td>\n",
              "      <td>45</td>\n",
              "      <td>172</td>\n",
              "      <td>1</td>\n",
              "      <td>10</td>\n",
              "      <td>F</td>\n",
              "      <td>39</td>\n",
              "      <td>3062</td>\n",
              "    </tr>\n",
              "    <tr>\n",
              "      <th>3</th>\n",
              "      <td>1</td>\n",
              "      <td>3</td>\n",
              "      <td>25</td>\n",
              "      <td>38</td>\n",
              "      <td>25</td>\n",
              "      <td>32</td>\n",
              "      <td>192</td>\n",
              "      <td>2</td>\n",
              "      <td>9</td>\n",
              "      <td>F</td>\n",
              "      <td>39</td>\n",
              "      <td>3062</td>\n",
              "    </tr>\n",
              "    <tr>\n",
              "      <th>4</th>\n",
              "      <td>1</td>\n",
              "      <td>2</td>\n",
              "      <td>999</td>\n",
              "      <td>23</td>\n",
              "      <td>999</td>\n",
              "      <td>25</td>\n",
              "      <td>194</td>\n",
              "      <td>1</td>\n",
              "      <td>9</td>\n",
              "      <td>M</td>\n",
              "      <td>39</td>\n",
              "      <td>3941</td>\n",
              "    </tr>\n",
              "  </tbody>\n",
              "</table>\n",
              "</div>\n",
              "      <button class=\"colab-df-convert\" onclick=\"convertToInteractive('df-feb18bee-77a1-416f-9030-c13432afae4f')\"\n",
              "              title=\"Convert this dataframe to an interactive table.\"\n",
              "              style=\"display:none;\">\n",
              "        \n",
              "  <svg xmlns=\"http://www.w3.org/2000/svg\" height=\"24px\"viewBox=\"0 0 24 24\"\n",
              "       width=\"24px\">\n",
              "    <path d=\"M0 0h24v24H0V0z\" fill=\"none\"/>\n",
              "    <path d=\"M18.56 5.44l.94 2.06.94-2.06 2.06-.94-2.06-.94-.94-2.06-.94 2.06-2.06.94zm-11 1L8.5 8.5l.94-2.06 2.06-.94-2.06-.94L8.5 2.5l-.94 2.06-2.06.94zm10 10l.94 2.06.94-2.06 2.06-.94-2.06-.94-.94-2.06-.94 2.06-2.06.94z\"/><path d=\"M17.41 7.96l-1.37-1.37c-.4-.4-.92-.59-1.43-.59-.52 0-1.04.2-1.43.59L10.3 9.45l-7.72 7.72c-.78.78-.78 2.05 0 2.83L4 21.41c.39.39.9.59 1.41.59.51 0 1.02-.2 1.41-.59l7.78-7.78 2.81-2.81c.8-.78.8-2.07 0-2.86zM5.41 20L4 18.59l7.72-7.72 1.47 1.35L5.41 20z\"/>\n",
              "  </svg>\n",
              "      </button>\n",
              "      \n",
              "  <style>\n",
              "    .colab-df-container {\n",
              "      display:flex;\n",
              "      flex-wrap:wrap;\n",
              "      gap: 12px;\n",
              "    }\n",
              "\n",
              "    .colab-df-convert {\n",
              "      background-color: #E8F0FE;\n",
              "      border: none;\n",
              "      border-radius: 50%;\n",
              "      cursor: pointer;\n",
              "      display: none;\n",
              "      fill: #1967D2;\n",
              "      height: 32px;\n",
              "      padding: 0 0 0 0;\n",
              "      width: 32px;\n",
              "    }\n",
              "\n",
              "    .colab-df-convert:hover {\n",
              "      background-color: #E2EBFA;\n",
              "      box-shadow: 0px 1px 2px rgba(60, 64, 67, 0.3), 0px 1px 3px 1px rgba(60, 64, 67, 0.15);\n",
              "      fill: #174EA6;\n",
              "    }\n",
              "\n",
              "    [theme=dark] .colab-df-convert {\n",
              "      background-color: #3B4455;\n",
              "      fill: #D2E3FC;\n",
              "    }\n",
              "\n",
              "    [theme=dark] .colab-df-convert:hover {\n",
              "      background-color: #434B5C;\n",
              "      box-shadow: 0px 1px 3px 1px rgba(0, 0, 0, 0.15);\n",
              "      filter: drop-shadow(0px 1px 2px rgba(0, 0, 0, 0.3));\n",
              "      fill: #FFFFFF;\n",
              "    }\n",
              "  </style>\n",
              "\n",
              "      <script>\n",
              "        const buttonEl =\n",
              "          document.querySelector('#df-feb18bee-77a1-416f-9030-c13432afae4f button.colab-df-convert');\n",
              "        buttonEl.style.display =\n",
              "          google.colab.kernel.accessAllowed ? 'block' : 'none';\n",
              "\n",
              "        async function convertToInteractive(key) {\n",
              "          const element = document.querySelector('#df-feb18bee-77a1-416f-9030-c13432afae4f');\n",
              "          const dataTable =\n",
              "            await google.colab.kernel.invokeFunction('convertToInteractive',\n",
              "                                                     [key], {});\n",
              "          if (!dataTable) return;\n",
              "\n",
              "          const docLinkHtml = 'Like what you see? Visit the ' +\n",
              "            '<a target=\"_blank\" href=https://colab.research.google.com/notebooks/data_table.ipynb>data table notebook</a>'\n",
              "            + ' to learn more about interactive tables.';\n",
              "          element.innerHTML = '';\n",
              "          dataTable['output_type'] = 'display_data';\n",
              "          await google.colab.output.renderOutput(dataTable, element);\n",
              "          const docLink = document.createElement('div');\n",
              "          docLink.innerHTML = docLinkHtml;\n",
              "          element.appendChild(docLink);\n",
              "        }\n",
              "      </script>\n",
              "    </div>\n",
              "  </div>\n",
              "  "
            ]
          },
          "metadata": {},
          "execution_count": 29
        }
      ]
    },
    {
      "cell_type": "code",
      "source": [
        "df1 = datosNB.DBWT[datosNB.SEX == 'M']\n",
        "df2 = datosNB.DBWT[datosNB.SEX == 'F']"
      ],
      "metadata": {
        "id": "RSuO2cLnBUGD"
      },
      "execution_count": null,
      "outputs": []
    },
    {
      "cell_type": "code",
      "source": [
        "df1"
      ],
      "metadata": {
        "colab": {
          "base_uri": "https://localhost:8080/"
        },
        "id": "GGL2DG8zBrSV",
        "outputId": "a2930a49-bd8d-40b7-ef8a-b7fb680808d7"
      },
      "execution_count": null,
      "outputs": [
        {
          "output_type": "execute_result",
          "data": {
            "text/plain": [
              "0        3090\n",
              "4        3941\n",
              "5        3345\n",
              "9        3657\n",
              "10       3175\n",
              "         ... \n",
              "41120    3487\n",
              "41122    3657\n",
              "41124    3090\n",
              "41126    2296\n",
              "41129    3771\n",
              "Name: DBWT, Length: 20990, dtype: int64"
            ]
          },
          "metadata": {},
          "execution_count": 31
        }
      ]
    },
    {
      "cell_type": "code",
      "source": [
        "df2"
      ],
      "metadata": {
        "colab": {
          "base_uri": "https://localhost:8080/"
        },
        "id": "VPJxfwy8BsiN",
        "outputId": "ab4a9180-f370-45ad-8580-d70e7d39bb50"
      },
      "execution_count": null,
      "outputs": [
        {
          "output_type": "execute_result",
          "data": {
            "text/plain": [
              "1        3062\n",
              "2        3062\n",
              "3        3062\n",
              "6        3430\n",
              "7        2013\n",
              "         ... \n",
              "41121    3204\n",
              "41123    3544\n",
              "41125    3260\n",
              "41127    2920\n",
              "41128    2863\n",
              "Name: DBWT, Length: 20140, dtype: int64"
            ]
          },
          "metadata": {},
          "execution_count": 32
        }
      ]
    },
    {
      "cell_type": "code",
      "source": [
        "import seaborn as sb\n",
        "from scipy import stats\n",
        "import math"
      ],
      "metadata": {
        "id": "WAeUSYYoBuXj"
      },
      "execution_count": null,
      "outputs": []
    },
    {
      "cell_type": "code",
      "source": [
        "sb.boxplot(x = 'SEX', y = 'DBWT', data = datosNB)\n",
        "plt.title('Peso de los nacimientos por género')"
      ],
      "metadata": {
        "colab": {
          "base_uri": "https://localhost:8080/",
          "height": 312
        },
        "id": "PbJ8HmJoB33_",
        "outputId": "31b256ff-1b24-46f7-e44b-15a8cf0f343a"
      },
      "execution_count": null,
      "outputs": [
        {
          "output_type": "execute_result",
          "data": {
            "text/plain": [
              "Text(0.5, 1.0, 'Peso de los nacimientos por género')"
            ]
          },
          "metadata": {},
          "execution_count": 34
        },
        {
          "output_type": "display_data",
          "data": {
            "text/plain": [
              "<Figure size 432x288 with 1 Axes>"
            ],
            "image/png": "[encoded data removed]"
          },
          "metadata": {
            "needs_background": "light"
          }
        }
      ]
    },
    {
      "cell_type": "code",
      "source": [
        "n1 = df1.size # Tamaño primera muestra, chicos\n",
        "n2 = df2.size # Tamaño segunda muestra, chicas\n",
        "\n",
        "m1 = df1.mean()\n",
        "m2 = df2.mean()\n",
        "\n",
        "std1 = df1.std()\n",
        "std2 = df2.std()\n"
      ],
      "metadata": {
        "id": "CnRgB17mCNwI"
      },
      "execution_count": null,
      "outputs": []
    },
    {
      "cell_type": "code",
      "source": [
        "import matplotlib.image as mpimg\n",
        "img = mpimg.imread('/content/drive/MyDrive/Publico/ds-online-76/ic.jpg')\n",
        "plt.figure(figsize = (20,20))\n",
        "plt.imshow(img)\n",
        "plt.show()"
      ],
      "metadata": {
        "colab": {
          "base_uri": "https://localhost:8080/",
          "height": 365
        },
        "id": "Ee_DoaMgCjZZ",
        "outputId": "15b81c9e-5734-4857-cb90-4da9a4ab7253"
      },
      "execution_count": null,
      "outputs": [
        {
          "output_type": "display_data",
          "data": {
            "text/plain": [
              "<Figure size 1440x1440 with 1 Axes>"
            ],
            "image/png": "[encoded data removed]"
          },
          "metadata": {
            "needs_background": "light"
          }
        }
      ]
    },
    {
      "cell_type": "code",
      "source": [
        "nivel_significancia = 0.05\n",
        "confianza = 1 - nivel_significancia"
      ],
      "metadata": {
        "id": "1Zs12q3KCj_r"
      },
      "execution_count": null,
      "outputs": []
    },
    {
      "cell_type": "code",
      "source": [
        "h1 = std1 / math.sqrt(n1) * stats.t.ppf((1 + confianza) / 2, n1 - 1) # Usando los parámetros de los chicos\n",
        "h2 = std2 / math.sqrt(n2) * stats.t.ppf((1 + confianza) / 2, n2 - 1) # Usando los parámetros de las chicas"
      ],
      "metadata": {
        "id": "esa1jDYxDxC-"
      },
      "execution_count": null,
      "outputs": []
    },
    {
      "cell_type": "code",
      "source": [
        "print('DBWT intervalo de confianza para chicos: ', m1 - h1, m1 + h1 )\n",
        "print('DBWT intervalo de confianza para chicas: ', m2 - h2, m2 + h2 )"
      ],
      "metadata": {
        "colab": {
          "base_uri": "https://localhost:8080/"
        },
        "id": "wU5VwknLEOjb",
        "outputId": "c630c9c9-5985-49a2-bb84-baadff4eb599"
      },
      "execution_count": null,
      "outputs": [
        {
          "output_type": "stream",
          "name": "stdout",
          "text": [
            "DBWT intervalo de confianza para chicos:  3119.1440936562713 3138.200832499041\n",
            "DBWT intervalo de confianza para chicas:  3024.1719063391874 3043.126107563494\n"
          ]
        }
      ]
    },
    {
      "cell_type": "code",
      "source": [
        "tprueba, pvalor = stats.ttest_ind(df1, df2, equal_var = False)"
      ],
      "metadata": {
        "id": "VAmAwe-uEj7T"
      },
      "execution_count": null,
      "outputs": []
    },
    {
      "cell_type": "code",
      "source": [
        "pvalor"
      ],
      "metadata": {
        "colab": {
          "base_uri": "https://localhost:8080/"
        },
        "id": "yibdpQjsF5O0",
        "outputId": "7bd51140-a208-4ad0-e988-52856bb6819d"
      },
      "execution_count": null,
      "outputs": [
        {
          "output_type": "execute_result",
          "data": {
            "text/plain": [
              "1.4021551918798503e-43"
            ]
          },
          "metadata": {},
          "execution_count": 49
        }
      ]
    },
    {
      "cell_type": "code",
      "source": [
        "# Rechazamos la hipótesis nula porque el valor p es muy cercano a cero y alpha = 0.05"
      ],
      "metadata": {
        "id": "o57c4dLlF8Nm"
      },
      "execution_count": null,
      "outputs": []
    }
  ]
}